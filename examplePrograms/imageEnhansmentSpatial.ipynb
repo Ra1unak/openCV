{
 "cells": [
  {
   "cell_type": "code",
   "execution_count": 1,
   "metadata": {},
   "outputs": [],
   "source": [
    "#image negative enhacement\n",
    "import cv2\n",
    "import numpy as np"
   ]
  },
  {
   "cell_type": "code",
   "execution_count": 4,
   "metadata": {},
   "outputs": [
    {
     "name": "stdout",
     "output_type": "stream",
     "text": [
      "(348, 600)\n"
     ]
    }
   ],
   "source": [
    "img = cv2.imread(\"minions.jpg\",1)\n",
    "gray = cv2.imread(\"minions.jpg\",0)\n",
    "\n",
    "#creating negative image\n",
    "neg = 1 - img\n",
    "\n",
    "# log transformation on image, done on gray scale image\n",
    "# formula :: opPix = ScalingConst * log(1 + ipPix)\n",
    "# ipPix - input pixel image\n",
    "# opPix - output pixel image\n",
    "# ScalingConst = 255/( log(1+max_input_pixel_value) )\n",
    "# adding 1 to input pixel, since log0 = inf, and want to avoid that\n",
    "\n",
    "#modified formula since 0 has been removed from the array already\n",
    "grayNonZero = np.where( gray==0 , 1, gray)\n",
    "\n",
    "ScalingConst = 255 / np.log(np.max(grayNonZero)) \n",
    "logImg = ScalingConst * (np.log(grayNonZero)) \n",
    "\n",
    "cv2.imshow(\"original image\", img)\n",
    "cv2.imshow(\"negative image\", neg)\n",
    "cv2.imshow(\"gray scale image\", gray)\n",
    "#cv2.imshow(\"log transformation image\", logImg)\n",
    "\n",
    "cv2.waitKey(0)\n",
    "cv2.destroyAllWindows()"
   ]
  },
  {
   "cell_type": "code",
   "execution_count": null,
   "metadata": {},
   "outputs": [],
   "source": []
  },
  {
   "cell_type": "code",
   "execution_count": null,
   "metadata": {},
   "outputs": [],
   "source": []
  },
  {
   "cell_type": "code",
   "execution_count": null,
   "metadata": {},
   "outputs": [],
   "source": []
  },
  {
   "cell_type": "code",
   "execution_count": null,
   "metadata": {},
   "outputs": [],
   "source": []
  }
 ],
 "metadata": {
  "kernelspec": {
   "display_name": "Python 3",
   "language": "python",
   "name": "python3"
  },
  "language_info": {
   "codemirror_mode": {
    "name": "ipython",
    "version": 3
   },
   "file_extension": ".py",
   "mimetype": "text/x-python",
   "name": "python",
   "nbconvert_exporter": "python",
   "pygments_lexer": "ipython3",
   "version": "3.8.3"
  }
 },
 "nbformat": 4,
 "nbformat_minor": 4
}
